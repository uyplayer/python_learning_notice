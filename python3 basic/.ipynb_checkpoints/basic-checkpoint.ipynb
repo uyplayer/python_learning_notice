{
 "cells": [
  {
   "cell_type": "markdown",
   "metadata": {},
   "source": [
    "python3 format"
   ]
  },
  {
   "cell_type": "code",
   "execution_count": 1,
   "metadata": {},
   "outputs": [
    {
     "name": "stdout",
     "output_type": "stream",
     "text": [
      "Swaroop was 20 years old when he wrote this book\n",
      "Why is Swaroop playing with that python?\n"
     ]
    }
   ],
   "source": [
    "age = 20\n",
    "name = 'Swaroop'\n",
    "\n",
    "print('{name} was {age} years old when he wrote this book'.format(name=name, age=age))\n",
    "print('Why is {name} playing with that python?'.format(name=name))"
   ]
  },
  {
   "cell_type": "code",
   "execution_count": 2,
   "metadata": {
    "scrolled": true
   },
   "outputs": [
    {
     "name": "stdout",
     "output_type": "stream",
     "text": [
      "Swaroop was 20 years old when he wrote this book\n",
      "Why is Swaroop playing with that python?\n"
     ]
    }
   ],
   "source": [
    "age = 20\n",
    "name = 'Swaroop'\n",
    "\n",
    "print('{} was {} years old when he wrote this book'.format(name, age))\n",
    "print('Why is {} playing with that python?'.format(name))"
   ]
  },
  {
   "cell_type": "markdown",
   "metadata": {},
   "source": [
    "Python 3.6 \"f-strings\""
   ]
  },
  {
   "cell_type": "code",
   "execution_count": 3,
   "metadata": {},
   "outputs": [
    {
     "name": "stdout",
     "output_type": "stream",
     "text": [
      "Swaroop was 20 years old when he wrote this book\n",
      "Why is Swaroop playing with that python?\n"
     ]
    }
   ],
   "source": [
    "age = 20\n",
    "name = 'Swaroop'\n",
    "\n",
    "print(f'{name} was {age} years old when he wrote this book')  # notice the 'f' before the string\n",
    "print(f'Why is {name} playing with that python?')  # notice the 'f' before the string"
   ]
  },
  {
   "cell_type": "code",
   "execution_count": 4,
   "metadata": {},
   "outputs": [
    {
     "name": "stdout",
     "output_type": "stream",
     "text": [
      "0.333\n",
      "___hello___\n",
      "Swaroop wrote A Byte of Python\n"
     ]
    }
   ],
   "source": [
    "# decimal (.) precision of 3 for float '0.333'\n",
    "print('{0:.3f}'.format(1.0/3))\n",
    "# fill with underscores (_) with the text centered\n",
    "# (^) to 11 width '___hello___'\n",
    "print('{0:_^11}'.format('hello'))\n",
    "# keyword-based 'Swaroop wrote A Byte of Python'\n",
    "print('{name} wrote {book}'.format(name='Swaroop', book='A Byte of Python'))"
   ]
  },
  {
   "cell_type": "markdown",
   "metadata": {},
   "source": [
    "python3 :end  \n",
    "不换行"
   ]
  },
  {
   "cell_type": "code",
   "execution_count": 5,
   "metadata": {},
   "outputs": [
    {
     "name": "stdout",
     "output_type": "stream",
     "text": [
      "ab"
     ]
    }
   ],
   "source": [
    "print('a', end='')\n",
    "print('b', end='')"
   ]
  },
  {
   "cell_type": "code",
   "execution_count": 6,
   "metadata": {},
   "outputs": [
    {
     "name": "stdout",
     "output_type": "stream",
     "text": [
      "a b c\n"
     ]
    }
   ],
   "source": [
    "print('a', end=' ')\n",
    "print('b', end=' ')\n",
    "print('c')"
   ]
  },
  {
   "cell_type": "markdown",
   "metadata": {},
   "source": [
    "multe line  '''  '''"
   ]
  },
  {
   "cell_type": "code",
   "execution_count": 7,
   "metadata": {},
   "outputs": [
    {
     "name": "stdout",
     "output_type": "stream",
     "text": [
      "This is a multi-line string.\n",
      "This is the second line.\n"
     ]
    }
   ],
   "source": [
    "s = '''This is a multi-line string.\n",
    "This is the second line.'''\n",
    "print(s)"
   ]
  },
  {
   "cell_type": "code",
   "execution_count": 8,
   "metadata": {},
   "outputs": [],
   "source": [
    "i = \\\n",
    "5"
   ]
  },
  {
   "cell_type": "code",
   "execution_count": 9,
   "metadata": {},
   "outputs": [
    {
     "data": {
      "text/plain": [
       "5"
      ]
     },
     "execution_count": 9,
     "metadata": {},
     "output_type": "execute_result"
    }
   ],
   "source": [
    "i"
   ]
  },
  {
   "cell_type": "markdown",
   "metadata": {},
   "source": [
    "while Statement and else "
   ]
  },
  {
   "cell_type": "code",
   "execution_count": 10,
   "metadata": {},
   "outputs": [
    {
     "name": "stdout",
     "output_type": "stream",
     "text": [
      "Done\n"
     ]
    }
   ],
   "source": [
    "# number = 23\n",
    "# running = True\n",
    "\n",
    "# while running:\n",
    "#     guess = int(input('Enter an integer : '))\n",
    "\n",
    "#     if guess == number:\n",
    "#         print('Congratulations, you guessed it.')\n",
    "#         # this causes the while loop to stop\n",
    "#         running = False\n",
    "#     elif guess < number:\n",
    "#         print('No, it is a little higher than that.')\n",
    "#     else:\n",
    "#         print('No, it is a little lower than that.')\n",
    "# else:\n",
    "#     print('The while loop is over.')\n",
    "#     # Do anything else you want to do here\n",
    "\n",
    "print('Done')"
   ]
  },
  {
   "cell_type": "markdown",
   "metadata": {},
   "source": [
    "The for loop"
   ]
  },
  {
   "cell_type": "code",
   "execution_count": 11,
   "metadata": {},
   "outputs": [
    {
     "name": "stdout",
     "output_type": "stream",
     "text": [
      "1\n",
      "2\n",
      "3\n",
      "4\n",
      "The for loop is over\n"
     ]
    }
   ],
   "source": [
    "for i in range(1, 5):\n",
    "    print(i)\n",
    "else:\n",
    "    print('The for loop is over')"
   ]
  },
  {
   "cell_type": "markdown",
   "metadata": {},
   "source": [
    "This is because the values are assigned to the parameters by position. For example,def func(a, b=5) is valid, but def func(a=5, b) is not valid."
   ]
  },
  {
   "cell_type": "code",
   "execution_count": 12,
   "metadata": {},
   "outputs": [
    {
     "name": "stdout",
     "output_type": "stream",
     "text": [
      "a is 3 and b is 7 and c is 10\n",
      "a is 25 and b is 5 and c is 24\n",
      "a is 100 and b is 5 and c is 50\n"
     ]
    }
   ],
   "source": [
    "def func(a, b=5, c=10):\n",
    "    print('a is', a, 'and b is', b, 'and c is', c)\n",
    "\n",
    "func(3, 7)\n",
    "func(25, c=24)\n",
    "func(c=50, a=100)"
   ]
  },
  {
   "cell_type": "code",
   "execution_count": 13,
   "metadata": {},
   "outputs": [
    {
     "name": "stdout",
     "output_type": "stream",
     "text": [
      "a 10\n",
      "single_item 1\n",
      "single_item 2\n",
      "single_item 3\n",
      "Jack 1123\n",
      "John 2231\n",
      "Inge 1560\n"
     ]
    }
   ],
   "source": [
    "def total(a=5, *numbers, **phonebook):\n",
    "    print('a', a)\n",
    "\n",
    "    #iterate through all the items in tuple\n",
    "    for single_item in numbers:\n",
    "        print('single_item', single_item)\n",
    "\n",
    "    #iterate through all the items in dictionary    \n",
    "    for first_part, second_part in phonebook.items():\n",
    "        print(first_part,second_part)\n",
    "\n",
    "total(10,1,2,3,Jack=1123,John=2231,Inge=1560)"
   ]
  },
  {
   "cell_type": "markdown",
   "metadata": {},
   "source": [
    "DocStrings"
   ]
  },
  {
   "cell_type": "code",
   "execution_count": 14,
   "metadata": {},
   "outputs": [
    {
     "name": "stdout",
     "output_type": "stream",
     "text": [
      "5 is maximum\n",
      "Prints the maximum of two numbers.\n",
      "\n",
      "    The two values must be integers.\n"
     ]
    }
   ],
   "source": [
    "def print_max(x, y):\n",
    "    '''Prints the maximum of two numbers.\n",
    "\n",
    "    The two values must be integers.'''\n",
    "    # convert to integers, if possible\n",
    "    x = int(x)\n",
    "    y = int(y)\n",
    "\n",
    "    if x > y:\n",
    "        print(x, 'is maximum')\n",
    "    else:\n",
    "        print(y, 'is maximum')\n",
    "\n",
    "print_max(3, 5)\n",
    "print(print_max.__doc__)"
   ]
  },
  {
   "cell_type": "code",
   "execution_count": 19,
   "metadata": {},
   "outputs": [
    {
     "data": {
      "text/plain": [
       "'ok'"
      ]
     },
     "execution_count": 19,
     "metadata": {},
     "output_type": "execute_result"
    }
   ],
   "source": [
    "def a():\n",
    "    '''ok'''\n",
    "    pass\n",
    "a.__doc__"
   ]
  },
  {
   "cell_type": "code",
   "execution_count": null,
   "metadata": {},
   "outputs": [],
   "source": []
  }
 ],
 "metadata": {
  "kernelspec": {
   "display_name": "Python 3",
   "language": "python",
   "name": "python3"
  },
  "language_info": {
   "codemirror_mode": {
    "name": "ipython",
    "version": 3
   },
   "file_extension": ".py",
   "mimetype": "text/x-python",
   "name": "python",
   "nbconvert_exporter": "python",
   "pygments_lexer": "ipython3",
   "version": "3.6.7"
  }
 },
 "nbformat": 4,
 "nbformat_minor": 2
}
